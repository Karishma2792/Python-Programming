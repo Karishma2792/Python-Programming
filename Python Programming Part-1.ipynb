{
 "cells": [
  {
   "cell_type": "markdown",
   "metadata": {},
   "source": [
    "# Python Programming Part-1"
   ]
  },
  {
   "cell_type": "markdown",
   "metadata": {},
   "source": [
    "## Problem Set - 1"
   ]
  },
  {
   "cell_type": "markdown",
   "metadata": {},
   "source": [
    "### Question 1:\n",
    "### What Data type is each of the following?"
   ]
  },
  {
   "cell_type": "code",
   "execution_count": 3,
   "metadata": {},
   "outputs": [
    {
     "name": "stdout",
     "output_type": "stream",
     "text": [
      "<class 'int'>\n",
      "<class 'float'>\n",
      "<class 'bool'>\n",
      "<class 'str'>\n",
      "<class 'int'>\n",
      "<class 'str'>\n",
      "<class 'str'>\n",
      "<class 'float'>\n",
      "<class 'int'>\n",
      "<class 'list'>\n",
      "<class 'bool'>\n",
      "<class 'float'>\n"
     ]
    }
   ],
   "source": [
    "import math\n",
    "\n",
    "#finding datatype of an expression using type()\n",
    "\n",
    "exp_1 = type(5)\n",
    "exp_2 = type(5.0)\n",
    "exp_3 = type(5 > 1)\n",
    "exp_4 = type('5')\n",
    "exp_5 = type(5 * 2)\n",
    "exp_6 = type('5' * 2)\n",
    "exp_7 = type('5' + '2')\n",
    "exp_8 = type(5 / 2)\n",
    "exp_9 = type(5 // 2)\n",
    "exp_10 = type([5, 2, 1])\n",
    "exp_11 = type(5 in [1, 4, 6])\n",
    "exp_12 = type(math.pi)\n",
    "\n",
    "print(exp_1)\n",
    "print(exp_2)\n",
    "print(exp_3)\n",
    "print(exp_4)\n",
    "print(exp_5)\n",
    "print(exp_6)\n",
    "print(exp_7)\n",
    "print(exp_8)\n",
    "print(exp_9)\n",
    "print(exp_10)\n",
    "print(exp_11)\n",
    "print(exp_12)\n"
   ]
  },
  {
   "cell_type": "markdown",
   "metadata": {},
   "source": [
    " Expression|Datatype\n",
    "-|-|\n",
    "5             |integer\n",
    "5.0           |float\n",
    "5 > 1         |boolean\n",
    "'5'           |string\n",
    "5 * 2         |integer\n",
    "'5' * 2       |string\n",
    "'5' + '2'     |string\n",
    "5 / 2         |float\n",
    "5 // 2        |integer\n",
    "[5, 2, 1]     |list\n",
    "5 in [1, 4, 6]|boolean\n",
    "math.pi       |float\n"
   ]
  },
  {
   "cell_type": "markdown",
   "metadata": {},
   "source": [
    "### Question 2:\n",
    "### Write (and evaluate) Python expressions that answer these questions:"
   ]
  },
  {
   "cell_type": "markdown",
   "metadata": {},
   "source": [
    "     a. How many letters are there in 'Supercalifragilisticexpialidocious'?\n",
    "     b. Does 'Supercalifragilisticexpialidocious' contain 'ice' as a substring?\n",
    "    "
   ]
  },
  {
   "cell_type": "code",
   "execution_count": 6,
   "metadata": {},
   "outputs": [
    {
     "name": "stdout",
     "output_type": "stream",
     "text": [
      "a. The total number of letters in string S1 is: 34\n",
      "b. \"ice\" is a substring of Supercalifragilisticexpialidocious.\n"
     ]
    }
   ],
   "source": [
    "S1 = 'Supercalifragilisticexpialidocious'\n",
    "\n",
    "#finding length of string S1\n",
    "print(\"a. The total number of letters in string S1 is:\",len(S1)) \n",
    "\n",
    "#finding substring \"ice\"\n",
    "Sub = 'ice'\n",
    "if(Sub in S1):\n",
    "        print('b. \\\"ice\\\" is a substring of', S1 + '.')\n",
    "else:\n",
    "        print('b. \\\"ice\\\" is not a substring of', S1 + '.')\n"
   ]
  },
  {
   "cell_type": "markdown",
   "metadata": {},
   "source": [
    "    c. Which of the following words is the longest: Supercalifragilisticexpialidocious, Honorificabilitudinitatibus, or\n",
    "       Bababadalgharaghtakamminarronnkonn? "
   ]
  },
  {
   "cell_type": "code",
   "execution_count": 7,
   "metadata": {},
   "outputs": [
    {
     "name": "stdout",
     "output_type": "stream",
     "text": [
      "The longest word is Supercalifragilisticexpialidocious\n",
      "The longest word is Bababadalgharaghtakamminarronnkonn\n"
     ]
    }
   ],
   "source": [
    "S1 = 'Supercalifragilisticexpialidocious'\n",
    "a=len(S1)                                    #finding length of each word.\n",
    "S2 = 'Honorificabilitudinitatibus'\n",
    "b=len(S2)\n",
    "S3 = 'Bababadalgharaghtakamminarronnkonn'\n",
    "c=len(S3)\n",
    "\n",
    "#Comparing the length of each word.\n",
    "if a >= b and a >= c:\n",
    "        print(\"The longest word is\", S1)\n",
    "\n",
    "    \n",
    "if b >= a and b >= c:\n",
    "        print(\"The longest word is\", S2)\n",
    "\n",
    "    \n",
    "if c >= a and c >= b:\n",
    "        print(\"The longest word is\", S3)\n",
    "\n",
    "\n"
   ]
  },
  {
   "cell_type": "markdown",
   "metadata": {},
   "source": [
    "        d. Which composer comes first in the dictionary: 'Berlioz', 'Borodin', 'Brian', 'Bartok', 'Bellini', 'Buxtehude',                  'Bernstein'. Which one comes last?"
   ]
  },
  {
   "cell_type": "code",
   "execution_count": 8,
   "metadata": {},
   "outputs": [
    {
     "name": "stdout",
     "output_type": "stream",
     "text": [
      "['Bartok', 'Bellini', 'Berlioz', 'Bernstein', 'Borodin', 'Brian', 'Buxtehude']\n",
      "Composer that comes first in the dictionary is Bartok.\n",
      "Composer that comes first in the dictionary is Buxtehude.\n"
     ]
    }
   ],
   "source": [
    "#composer list\n",
    "Composer = ['Berlioz', 'Borodin', 'Brian', 'Bartok', 'Bellini', 'Buxtehude','Bernstein']\n",
    "\n",
    "#list sort function reference w3schools.com\n",
    "Composer.sort() \n",
    "print(Composer)\n",
    "\n",
    "print(\"Composer that comes first in the dictionary is\",Composer[0]+\".\")\n",
    "print(\"Composer that comes first in the dictionary is\",Composer[len(Composer)-1]+\".\")"
   ]
  },
  {
   "cell_type": "markdown",
   "metadata": {},
   "source": [
    "### Question 3:\n",
    "### a. Write a function inside(x,y,x1,y1,x2,y2) that returns True or False depending on whether the point (x,y) lies in the              rectangle with lower left corner (x1,y1) and upper right corner (x2,y2).\n"
   ]
  },
  {
   "cell_type": "code",
   "execution_count": 9,
   "metadata": {},
   "outputs": [],
   "source": [
    "#inside function with its parameter\n",
    "def inside(x, y, x1, y1, x2, y2):\n",
    "    \n",
    "    #Condition to check whether the point(x,y) lies in the rectangle coordinates given.\n",
    "    if(x > x1 and x < x2 and y > y1 and y < y2):\n",
    "        return True\n",
    "    else :\n",
    "        return False\n",
    "\n"
   ]
  },
  {
   "cell_type": "code",
   "execution_count": 10,
   "metadata": {},
   "outputs": [
    {
     "data": {
      "text/plain": [
       "True"
      ]
     },
     "execution_count": 10,
     "metadata": {},
     "output_type": "execute_result"
    }
   ],
   "source": [
    "inside(1,1,0,0,2,3)"
   ]
  },
  {
   "cell_type": "code",
   "execution_count": 11,
   "metadata": {},
   "outputs": [
    {
     "data": {
      "text/plain": [
       "False"
      ]
     },
     "execution_count": 11,
     "metadata": {},
     "output_type": "execute_result"
    }
   ],
   "source": [
    "inside(-1,-1,0,0,2,3)"
   ]
  },
  {
   "cell_type": "markdown",
   "metadata": {},
   "source": [
    "### b. Use function inside() from part a. to write an expression that tests whether the point (1,1) lies in both of the following rectangles: one with lower left corner (0.3, 0.5) and upper right corner (1.1, 0.7) and the other with lower left corner (0.5, 0.2) and upper right corner (1.1, 2). "
   ]
  },
  {
   "cell_type": "code",
   "execution_count": 12,
   "metadata": {},
   "outputs": [
    {
     "name": "stdout",
     "output_type": "stream",
     "text": [
      "Point (1,1) does not lies in both of the rectangles\n"
     ]
    }
   ],
   "source": [
    "def inside(x,y,x1,y1,x2,y2):\n",
    "    if(x > x1 and x < x2 and y > y1 and y < y2):\n",
    "        return True\n",
    "    else :\n",
    "        return False\n",
    "\n",
    "\n",
    "first_rect = inside(1,1,0.3,0.5,1.1,0.7)\n",
    "second_rect = inside(1,1,0.5,0.2,1.1,2)\n",
    "\n",
    "if(first_rect == True and second_rect == True):\n",
    "    print(\"Point (1,1) lies in both of the rectangles\")\n",
    "else:\n",
    "    print(\"Point (1,1) does not lies in both of the rectangles\")\n",
    "\n"
   ]
  },
  {
   "cell_type": "markdown",
   "metadata": {},
   "source": [
    "### Question 4:\n",
    "### Write a function pig() that takes a word (i.e., a string) as input and returns its pigLatin form. Your function                  should still work if the input word contains upper case characters. Your output should always be lower case            however. "
   ]
  },
  {
   "cell_type": "code",
   "execution_count": 1,
   "metadata": {},
   "outputs": [],
   "source": [
    "def pig():\n",
    "    word = input('Enter any word: ')\n",
    "    str = word[0]\n",
    "    \n",
    "    #condition to check whether string starts with \"vowel\" or \"consonant\"\n",
    "    if (str == 'a' or str == 'e' or str == 'i' or str == 'o' or str == 'u' or \n",
    "            str == 'A' or str == 'E' or str == 'I' or str == 'O' or str == 'U'):\n",
    "            print(word.lower() + 'way')\n",
    "    else :\n",
    "            #https://stackoverflow.com/questions/12924009/how-to-move-the-first-letter-of-a-word-to-the-end\n",
    "            print(word[1:].lower()+word[0].lower()+'ay') "
   ]
  },
  {
   "cell_type": "code",
   "execution_count": 2,
   "metadata": {},
   "outputs": [
    {
     "name": "stdout",
     "output_type": "stream",
     "text": [
      "Enter any word: ha\n",
      "ahay\n"
     ]
    }
   ],
   "source": [
    "pig()"
   ]
  },
  {
   "cell_type": "code",
   "execution_count": null,
   "metadata": {},
   "outputs": [],
   "source": [
    "pig()\n"
   ]
  },
  {
   "cell_type": "code",
   "execution_count": null,
   "metadata": {},
   "outputs": [],
   "source": [
    "pig()"
   ]
  },
  {
   "cell_type": "code",
   "execution_count": null,
   "metadata": {},
   "outputs": [],
   "source": [
    "pig()"
   ]
  },
  {
   "cell_type": "markdown",
   "metadata": {},
   "source": [
    "### Question 5:\n",
    "### File bloodtype1.txt records blood-types of patients (A, B, AB, O or OO) at a clinic. Write a function bldcount()            that reads the file with name name and reports (i.e., prints) how many patients there are in each bloodtype."
   ]
  },
  {
   "cell_type": "code",
   "execution_count": 3,
   "metadata": {},
   "outputs": [],
   "source": [
    "def bloodtype(name):\n",
    "    \n",
    "    #opening bloodtype.txt file\n",
    "    infile = open(name,\"r\")\n",
    "    \n",
    "    #reading lines from a file\n",
    "    a = infile.readlines()\n",
    "    \n",
    "    #bloodtype counter variables\n",
    "    countAB=0\n",
    "    countB=0\n",
    "    countO=0\n",
    "    countA=0\n",
    "    countOO=0\n",
    "    print(a)\n",
    "    \n",
    "    for line in a:           #https://stackoverflow.com/questions/34133976/splitting-lines-from-a-text-file-in-python-3\n",
    "        y = line.split(\" \")\n",
    "        #print(y)\n",
    "    \n",
    "    for type in y:\n",
    "        if type == 'AB':\n",
    "            countAB+=1\n",
    "        elif type == 'B':\n",
    "            countB+=1\n",
    "        elif type == 'O':\n",
    "            countO+=1\n",
    "        elif type == 'A':\n",
    "            countA+=1\n",
    "        elif type == 'OO':\n",
    "            countOO+=1\n",
    "        else:\n",
    "            pass\n",
    "        \n",
    "    print(\"There are\"+ \" \" +str(countA)+ \" \"+ \"patient of bloodtype A.\")\n",
    "    print(\"There are\"+ \" \" +str(countB)+ \" \"+ \"patient of bloodtype B.\")\n",
    "    print(\"There are\"+ \" \" +str(countO)+ \" \"+ \"patient of bloodtype O.\")\n",
    "    print(\"There are\"+ \" \" +str(countAB)+ \" \"+ \"patient of bloodtype AB.\")\n",
    "    print(\"There are\"+ \" \" +str(countOO)+ \" \"+ \"patient of bloodtype OO.\")  \n",
    "    infile.close()"
   ]
  },
  {
   "cell_type": "code",
   "execution_count": 4,
   "metadata": {},
   "outputs": [
    {
     "name": "stdout",
     "output_type": "stream",
     "text": [
      "['AB AB B O A A AB O AB A O O A A A O O O AB O A A A A A AB AB A AB O AB O A O O O AB O AB AB AB A A O']\n",
      "There are 15 patient of bloodtype A.\n",
      "There are 1 patient of bloodtype B.\n",
      "There are 15 patient of bloodtype O.\n",
      "There are 13 patient of bloodtype AB.\n",
      "There are 0 patient of bloodtype OO.\n"
     ]
    }
   ],
   "source": [
    "bloodtype(\"Set_1/bloodtype.txt\")"
   ]
  },
  {
   "cell_type": "markdown",
   "metadata": {},
   "source": [
    "### Question: 6\n",
    "### Write a function curconv() that takes as input:\n",
    "     1. a currency represented using a string (e.g., 'JPY' for the Japanese Yen or 'EUR' for the Euro)\n",
    "     2. an amount and then converts and returns the amount in US dollars.\n",
    "     "
   ]
  },
  {
   "cell_type": "code",
   "execution_count": 1,
   "metadata": {},
   "outputs": [],
   "source": [
    "def curconv(str,amount):\n",
    "    infile = open(\"Set_1/currencies.txt\",\"r\")\n",
    "    \n",
    "    #Reading lines from file\n",
    "    a = infile.readlines()\n",
    "    dict_cur={}\n",
    "    for line in a:\n",
    "        y = line.split(\" \")\n",
    "        #print(y)\n",
    "        #print(y[0])\n",
    "        #print(y[1])\n",
    "        dict_cur[y[0]] = y[1]\n",
    "    if str not in line:\n",
    "        print(\"currency not found in file\")\n",
    "    else:\n",
    "\n",
    "        for x in answer:\n",
    "            if x == str:\n",
    "                print(answer[x])\n",
    "                rates=float(answer[x])\n",
    "                currencyrates = rates * 100;\n",
    "                print(currencyrates)\n",
    "                break\n",
    "            else:\n",
    "                continue\n",
    "            #print(\"Currency not found\")\n",
    "    infile.close()   "
   ]
  },
  {
   "cell_type": "markdown",
   "metadata": {},
   "source": [
    "### Question: 7\n",
    "### Each of the following will cause an exception (an error). Identify what type of exception each will cause.\n"
   ]
  },
  {
   "cell_type": "markdown",
   "metadata": {},
   "source": [
    "### a. Trying to add incompatible variables, as in adding 6 + ‘a’\n"
   ]
  },
  {
   "cell_type": "code",
   "execution_count": 69,
   "metadata": {},
   "outputs": [
    {
     "name": "stdout",
     "output_type": "stream",
     "text": [
      "unsupported operand type(s) for +: 'int' and 'str'\n"
     ]
    }
   ],
   "source": [
    "try:\n",
    "    6 + 'a'             #TypeError\n",
    "    \n",
    "except TypeError:        \n",
    "    print(\"unsupported operand type(s) for +: 'int' and 'str'\")"
   ]
  },
  {
   "cell_type": "markdown",
   "metadata": {},
   "source": [
    "### b. Referring to the 12th item of a list that has only 10 items\n"
   ]
  },
  {
   "cell_type": "code",
   "execution_count": 48,
   "metadata": {},
   "outputs": [
    {
     "name": "stdout",
     "output_type": "stream",
     "text": [
      "list index out of range\n"
     ]
    }
   ],
   "source": [
    "try:\n",
    "    l = [1, 2, 3, 4, 5, 6, 7, 8, 9, 10, 11]\n",
    "    l[12]                 #Index out of bound Error\n",
    "\n",
    "except IndexError as e:  \n",
    "    print(e)"
   ]
  },
  {
   "cell_type": "markdown",
   "metadata": {},
   "source": [
    "###  c. Using a value that is out of range for a function’s input, such as calling math.sqrt(-1.0)"
   ]
  },
  {
   "cell_type": "code",
   "execution_count": 52,
   "metadata": {},
   "outputs": [
    {
     "name": "stdout",
     "output_type": "stream",
     "text": [
      "math domain error\n"
     ]
    }
   ],
   "source": [
    "import math\n",
    "try:\n",
    "    math.sqrt(-1.0)    #ValueError\n",
    "\n",
    "except Exception as e:\n",
    "    print(e)"
   ]
  },
  {
   "cell_type": "markdown",
   "metadata": {},
   "source": [
    "### d. Using an undeclared variable, such as print(x) when x has not been defined "
   ]
  },
  {
   "cell_type": "code",
   "execution_count": 53,
   "metadata": {},
   "outputs": [
    {
     "name": "stdout",
     "output_type": "stream",
     "text": [
      "name 'x' is not defined\n"
     ]
    }
   ],
   "source": [
    "try:\n",
    "    print(x)            #NameError\n",
    "except Exception as e:\n",
    "    print(e)"
   ]
  },
  {
   "cell_type": "markdown",
   "metadata": {},
   "source": [
    "### e. Trying to open a file that does not exist, such as mistyping the file name or looking in the wrong directory. "
   ]
  },
  {
   "cell_type": "code",
   "execution_count": 83,
   "metadata": {},
   "outputs": [
    {
     "name": "stdout",
     "output_type": "stream",
     "text": [
      "[Errno 2] No such file or directory: 'currencies.txt'\n"
     ]
    }
   ],
   "source": [
    "try:\n",
    "    infile = open(\"currencies.txt\",\"r\") #FileNotFoundError\n",
    "except Exception as e:\n",
    "    print(e)"
   ]
  },
  {
   "cell_type": "markdown",
   "metadata": {},
   "source": [
    "### Question: 8\n",
    "###  Write a function called frequencies() that takes a string as its only parameter, and returns a list of integers,               showing the number of times each character appears in the text. Your function may ignore any characters that         are not in letters."
   ]
  },
  {
   "cell_type": "code",
   "execution_count": 1,
   "metadata": {},
   "outputs": [],
   "source": [
    "def frequencies():\n",
    "    str = input('Enter any statement:')\n",
    "    \n",
    "    #dictionary dict1 with default value as 0 for small english letter\n",
    "    dict1 = {'a': 0 , 'b' : 0, 'c': 0,'d': 0 , 'e' : 0, 'f' : 0, 'g': 0 , 'h' : 0, 'i': 0,\n",
    "            'j': 0 , 'k' : 0, 'l': 0, 'm': 0 , 'n' : 0, 'o' : 0, 'p': 0 , 'q' : 0, 'r': 0,\n",
    "            's': 0 , 't' : 0, 'u': 0, 'v': 0 , 'w' : 0, 'x' : 0, 'y': 0 , 'z' : 0}\n",
    "    \n",
    "    #looping through the whole string, if chracter is available in dictionary its values is uncremented by one.\n",
    "    for char in str:\n",
    "        if char in dict1:\n",
    "            dict1[char]+=1;\n",
    "    \n",
    "    #for x in dict1:\n",
    "        #print(dict1[x],end='')\n",
    "    \n",
    "    final_list=list(dict1.values())\n",
    "    print(final_list)"
   ]
  },
  {
   "cell_type": "code",
   "execution_count": 3,
   "metadata": {},
   "outputs": [
    {
     "name": "stdout",
     "output_type": "stream",
     "text": [
      "Enter any statement:k\n",
      "[0, 0, 0, 0, 0, 0, 0, 0, 0, 0, 1, 0, 0, 0, 0, 0, 0, 0, 0, 0, 0, 0, 0, 0, 0, 0]\n"
     ]
    }
   ],
   "source": [
    "frequencies()\n"
   ]
  },
  {
   "cell_type": "markdown",
   "metadata": {},
   "source": [
    "### Question:9\n",
    "### Write a function sieve() that takes as input a positive integer n, implements the above algorithm, and returns a list of all prime numbers up to n."
   ]
  },
  {
   "cell_type": "code",
   "execution_count": 107,
   "metadata": {},
   "outputs": [],
   "source": [
    "def sieve():\n",
    "    N = input(\"Enter the value of N:\")\n",
    "    N = int(N)\n",
    "    L = []                #Empty List\n",
    "    \n",
    "    primeL = []\n",
    "    for i in range(2,N+1):\n",
    "        L.append(i)       #appending values from 2 to N\n",
    "    \n",
    "    \n",
    "    while len(L) != 0:\n",
    "        for x in L:\n",
    "            #print(L)\n",
    "            x = int(L[0])\n",
    "            #print(x)\n",
    "            primeL.append(x)\n",
    "            for x1 in L:\n",
    "                if x1 % x == 0:\n",
    "                    L.remove(x1)\n",
    "            #print(L)\n",
    "            len(L)\n",
    "        \n",
    "    print(primeL)\n",
    "    "
   ]
  },
  {
   "cell_type": "code",
   "execution_count": 110,
   "metadata": {},
   "outputs": [
    {
     "name": "stdout",
     "output_type": "stream",
     "text": [
      "Enter the value of N:368\n",
      "[2, 3, 5, 7, 11, 13, 17, 19, 23, 29, 31, 37, 41, 43, 47, 53, 59, 61, 67, 71, 73, 79, 83, 89, 97, 101, 103, 107, 109, 113, 127, 131, 137, 139, 149, 151, 157, 163, 167, 173, 179, 181, 191, 193, 197, 199, 211, 223, 227, 229, 233, 239, 241, 251, 257, 263, 269, 271, 277, 281, 283, 293, 307, 311, 313, 317, 331, 337, 347, 349, 353, 359, 367]\n"
     ]
    }
   ],
   "source": [
    "sieve()\n"
   ]
  },
  {
   "cell_type": "code",
   "execution_count": 109,
   "metadata": {},
   "outputs": [
    {
     "name": "stdout",
     "output_type": "stream",
     "text": [
      "Enter the value of N:56\n",
      "[2, 3, 5, 7, 11, 13, 17, 19, 23, 29, 31, 37, 41, 43, 47, 53]\n"
     ]
    }
   ],
   "source": [
    "sieve()\n"
   ]
  },
  {
   "cell_type": "markdown",
   "metadata": {},
   "source": [
    "### Question: 10\n",
    "### Implement function triangleArea(a,b,c) that takes as input the lengths of the 3 sides of a triangle and returns            the area of the triangle. By Heron's formula, the area of a triangle with side lengths a, b, and c is sqrt of (s(s - a)(s -b)(s         -c)) , where s = (a+b+c)/2. "
   ]
  },
  {
   "cell_type": "code",
   "execution_count": 65,
   "metadata": {},
   "outputs": [],
   "source": [
    "#import math library to execute inbuilt math function.\n",
    "import math\n",
    "\n",
    "def triangleArea(a,b,c):\n",
    "    \n",
    "    s = (a + b + c)/2\n",
    "    s1 = s * (s-a) * (s-b) * (s-c)\n",
    "    print(math.sqrt(s1))\n",
    "    \n",
    "    "
   ]
  },
  {
   "cell_type": "code",
   "execution_count": 66,
   "metadata": {},
   "outputs": [
    {
     "name": "stdout",
     "output_type": "stream",
     "text": [
      "1.7320508075688772\n"
     ]
    }
   ],
   "source": [
    "triangleArea(2,2,2)"
   ]
  }
 ],
 "metadata": {
  "kernelspec": {
   "display_name": "Python 3",
   "language": "python",
   "name": "python3"
  },
  "language_info": {
   "codemirror_mode": {
    "name": "ipython",
    "version": 3
   },
   "file_extension": ".py",
   "mimetype": "text/x-python",
   "name": "python",
   "nbconvert_exporter": "python",
   "pygments_lexer": "ipython3",
   "version": "3.8.5"
  }
 },
 "nbformat": 4,
 "nbformat_minor": 4
}
