{
 "cells": [
  {
   "cell_type": "markdown",
   "metadata": {},
   "source": [
    "# Python Programming Part-2"
   ]
  },
  {
   "cell_type": "markdown",
   "metadata": {},
   "source": [
    "## Problem Set - 2"
   ]
  },
  {
   "cell_type": "markdown",
   "metadata": {},
   "source": [
    "### Question 1:\n",
    "### Consider the following Python module:"
   ]
  },
  {
   "cell_type": "code",
   "execution_count": 1,
   "metadata": {},
   "outputs": [],
   "source": [
    "a = 0   # a is a global variable.\n",
    "\n",
    "def b():\n",
    "    global a\n",
    "    a = c(a)\n",
    "\n",
    "def c(a):\n",
    "    return a + 2"
   ]
  },
  {
   "cell_type": "code",
   "execution_count": 2,
   "metadata": {},
   "outputs": [],
   "source": [
    "b()"
   ]
  },
  {
   "cell_type": "code",
   "execution_count": 3,
   "metadata": {},
   "outputs": [],
   "source": [
    "b()"
   ]
  },
  {
   "cell_type": "code",
   "execution_count": 4,
   "metadata": {},
   "outputs": [],
   "source": [
    "b()"
   ]
  },
  {
   "cell_type": "code",
   "execution_count": 5,
   "metadata": {},
   "outputs": [
    {
     "data": {
      "text/plain": [
       "6"
      ]
     },
     "execution_count": 5,
     "metadata": {},
     "output_type": "execute_result"
    }
   ],
   "source": [
    "a"
   ]
  },
  {
   "cell_type": "markdown",
   "metadata": {},
   "source": [
    "<pre>\n",
    "<code>\n",
    "After excecuting each statement, Value of a is 6.\n",
    "<b>Explanation:</b>\n",
    "\n",
    "a is declared outside of a function. \n",
    "Thus, it is a global variable used both inside and outside of a function.\n",
    "a=0\n",
    " \n",
    "1. invoke b() for 1st time.\n",
    "    function b() calls c(),\n",
    "    c() evaluate a+2 i.e 0+2\n",
    "    c() retuns the value to b() which is stored in a. updated value of a is 2.\n",
    "a=2\n",
    "2. invoke b() for 2nd time.\n",
    "    function b() calls c(),\n",
    "    c() evaluate a+2 i.e 2+2\n",
    "    c() retuns the value to b() which is stored in a. updated value of a is 4.\n",
    "a=4\n",
    "3. invoke b() for 3rd time.\n",
    "    function b() calls c(),\n",
    "    c() evaluate a+2 i.e 4+2\n",
    "    c() retuns the value to b() which is stored in a. updated value of a is 6.\n",
    "\n",
    "<b>Therefore, final value of a is 6.</b>\n",
    "<pre>\n",
    "<code>"
   ]
  },
  {
   "cell_type": "markdown",
   "metadata": {},
   "source": [
    "### Question 2:"
   ]
  },
  {
   "cell_type": "markdown",
   "metadata": {},
   "source": [
    "### Function fileLength(), given to you, takes the name of a file as input and returns the length of the file:"
   ]
  },
  {
   "cell_type": "code",
   "execution_count": 6,
   "metadata": {},
   "outputs": [],
   "source": [
    "def fileLength(filename):            #define fileLength() function\n",
    "    count=0\n",
    "    try:\n",
    "        infile = open(filename,'r')  #open file with read mode\n",
    "        count = infile.read()\n",
    "        return len(count)            #return the length of file.\n",
    "     \n",
    "    except:                          #try and except to handle the raised exception when file not found.\n",
    "        print(\"File not found\")"
   ]
  },
  {
   "cell_type": "code",
   "execution_count": 7,
   "metadata": {},
   "outputs": [
    {
     "data": {
      "text/plain": [
       "123"
      ]
     },
     "execution_count": 7,
     "metadata": {},
     "output_type": "execute_result"
    }
   ],
   "source": [
    "fileLength(\"Set_2_files/filelength.txt\")"
   ]
  },
  {
   "cell_type": "code",
   "execution_count": 8,
   "metadata": {},
   "outputs": [
    {
     "name": "stdout",
     "output_type": "stream",
     "text": [
      "File not found\n"
     ]
    }
   ],
   "source": [
    "fileLength(\"length.txt\")"
   ]
  },
  {
   "cell_type": "markdown",
   "metadata": {},
   "source": [
    "### Question 3:"
   ]
  },
  {
   "cell_type": "markdown",
   "metadata": {},
   "source": [
    "### Working with class in python"
   ]
  },
  {
   "cell_type": "markdown",
   "metadata": {},
   "source": [
    "### Extends super class"
   ]
  },
  {
   "cell_type": "code",
   "execution_count": 7,
   "metadata": {},
   "outputs": [],
   "source": [
    "class  Marsupial: #Base Class\n",
    "    def __init__(self):\n",
    "        'instantiates an empty list'\n",
    "        self.pouch = []\n",
    "        \n",
    "        \n",
    "    def put_in_pouch(self,value):\n",
    "        'append value into list'\n",
    "        self.pouch.append(value)\n",
    "        \n",
    "    def pouch_contents(self):\n",
    "        'print content of pouch'\n",
    "        print(self.pouch)\n",
    "\n",
    "class Kangaroo(Marsupial): #subclass Kangaroo\n",
    "    \n",
    "    def __init__(self,x,y):\n",
    "        'extends superclass __init__ method'\n",
    "        Marsupial.__init__(self)\n",
    "        self.x=x\n",
    "        self.y=y\n",
    "\n",
    "    def jump(self,dx,dy):\n",
    "        self.dx=dx\n",
    "        self.dy=dy\n",
    "        self.x = self.x + self.dx\n",
    "        self.y = self.y + self.dy\n",
    "        \n",
    "    def __str__(self):\n",
    "        'overloads __str__ operator'\n",
    "        return \"I am a Kangaroo located at coordinates ({},{})\".format(self.x,self.y)"
   ]
  },
  {
   "cell_type": "code",
   "execution_count": 8,
   "metadata": {},
   "outputs": [],
   "source": [
    "m = Marsupial()\n",
    "m.put_in_pouch('doll')\n",
    "m.put_in_pouch('firetruck')\n",
    "m.put_in_pouch('kitten')"
   ]
  },
  {
   "cell_type": "code",
   "execution_count": 9,
   "metadata": {},
   "outputs": [
    {
     "name": "stdout",
     "output_type": "stream",
     "text": [
      "['doll', 'firetruck', 'kitten']\n"
     ]
    }
   ],
   "source": [
    " m.pouch_contents()"
   ]
  },
  {
   "cell_type": "code",
   "execution_count": 10,
   "metadata": {},
   "outputs": [
    {
     "name": "stdout",
     "output_type": "stream",
     "text": [
      "I am a Kangaroo located at coordinates (0,0)\n"
     ]
    }
   ],
   "source": [
    "k = Kangaroo(0,0)\n",
    "print(k)"
   ]
  },
  {
   "cell_type": "code",
   "execution_count": 11,
   "metadata": {},
   "outputs": [],
   "source": [
    "k.put_in_pouch('doll')\n",
    "k.put_in_pouch('firetruck')\n",
    "k.put_in_pouch('kitten')"
   ]
  },
  {
   "cell_type": "code",
   "execution_count": 12,
   "metadata": {},
   "outputs": [
    {
     "name": "stdout",
     "output_type": "stream",
     "text": [
      "['doll', 'firetruck', 'kitten']\n"
     ]
    }
   ],
   "source": [
    " k.pouch_contents()"
   ]
  },
  {
   "cell_type": "code",
   "execution_count": 13,
   "metadata": {},
   "outputs": [
    {
     "name": "stdout",
     "output_type": "stream",
     "text": [
      "I am a Kangaroo located at coordinates (3,0)\n"
     ]
    }
   ],
   "source": [
    "k.jump(1,0)\n",
    "k.jump(1,0)\n",
    "k.jump(1,0)\n",
    "print(k)"
   ]
  },
  {
   "cell_type": "code",
   "execution_count": 14,
   "metadata": {},
   "outputs": [
    {
     "data": {
      "text/plain": [
       "['__class__',\n",
       " '__delattr__',\n",
       " '__dict__',\n",
       " '__dir__',\n",
       " '__doc__',\n",
       " '__eq__',\n",
       " '__format__',\n",
       " '__ge__',\n",
       " '__getattribute__',\n",
       " '__gt__',\n",
       " '__hash__',\n",
       " '__init__',\n",
       " '__init_subclass__',\n",
       " '__le__',\n",
       " '__lt__',\n",
       " '__module__',\n",
       " '__ne__',\n",
       " '__new__',\n",
       " '__reduce__',\n",
       " '__reduce_ex__',\n",
       " '__repr__',\n",
       " '__setattr__',\n",
       " '__sizeof__',\n",
       " '__str__',\n",
       " '__subclasshook__',\n",
       " '__weakref__',\n",
       " 'pouch_contents',\n",
       " 'put_in_pouch']"
      ]
     },
     "execution_count": 14,
     "metadata": {},
     "output_type": "execute_result"
    }
   ],
   "source": [
    "dir(Marsupial)"
   ]
  },
  {
   "cell_type": "markdown",
   "metadata": {},
   "source": [
    "### Question 4"
   ]
  },
  {
   "cell_type": "markdown",
   "metadata": {},
   "source": [
    "### Implement a new GUI class App that combines user-defined tkinter widget classes Calculator and Mortgage"
   ]
  },
  {
   "cell_type": "code",
   "execution_count": 35,
   "metadata": {},
   "outputs": [],
   "source": [
    "from tkinter import Tk, Entry, Button, Text, Label, RAISED\n",
    "root = Tk()  #object of tk()\n",
    "\n",
    "\n",
    "root.geometry(\"600x140\") #Size of an output window\n",
    "\n",
    "label = Label(master=root)\n",
    "label.grid(row=0,column=3)\n",
    "\n",
    "\n",
    "labels = [['MC', 'M+', 'M-', 'MR'],     \n",
    "          ['c', 'sqrt', 'x2','+'],     \n",
    "          ['7', '8', '9','-'],\n",
    "          ['4', '5', '6','*'],\n",
    "          ['1', '2', '3','/'],\n",
    "         ['0', '.', '+-','=']]\n",
    "\n",
    "for r in range(1,6):\n",
    "    for c in range(0,4):\n",
    "        #create label for row r and column c\n",
    "        label = Label(master=root,\n",
    "                      relief=RAISED,      \n",
    "                      padx=20,            \n",
    "                      text=labels[r][c], height=1, width=5)\n",
    "        # place label in row r and column c\n",
    "        label.grid(row=r, column=c+4)\n",
    "\n",
    "label1 = Label(master=root, text='Loan Amount:', width=16)\n",
    "label1.grid(row=1, column=0)\n",
    "\n",
    "Ent1 = Entry(master=root)\n",
    "Ent1.grid(row=1, column=1)\n",
    "\n",
    "label2 = Label(master=root, text='Interest rate:')\n",
    "label2.grid(row=2, column=0)\n",
    "\n",
    "Ent2 = Entry(master=root)\n",
    "Ent2.grid(row=2, column=1)\n",
    "\n",
    "label3 = Label(master=root, text='Loan Terms:')\n",
    "label3.grid(row=3, column=0)\n",
    "\n",
    "Ent3 = Entry(master=root)\n",
    "Ent3.grid(row=3, column=1)\n",
    "\n",
    "button = Button(master=root,text='Computer Mortgage')  \n",
    "button.grid(row=4, column=0)  \n",
    "\n",
    "Ent4 = Entry(master=root)\n",
    "Ent4.grid(row=4, column=1)\n",
    "\n",
    "\n",
    "#label = Label(root)\n",
    "root.mainloop()"
   ]
  },
  {
   "cell_type": "markdown",
   "metadata": {},
   "source": [
    "### Question 5"
   ]
  },
  {
   "cell_type": "markdown",
   "metadata": {},
   "source": [
    "### Write function collatz() that takes a positive integer x as input and prints the Collatz sequence starting at x. A Collatz sequence is obtained by repeatedly applying this rule to the previous number x in the sequence:\n",
    "<pre><code>\n",
    "x  =  𝑥/2 𝑖𝑓 𝑥 𝑖𝑠 𝑒𝑣𝑒𝑛\n",
    "     3𝑥 + 1 𝑖𝑓 𝑥 𝑖𝑠 𝑜𝑑d\n",
    "</code></pre>"
   ]
  },
  {
   "cell_type": "code",
   "execution_count": 37,
   "metadata": {},
   "outputs": [
    {
     "name": "stdout",
     "output_type": "stream",
     "text": [
      "enter the value of n:10\n",
      "5\n",
      "16\n",
      "8\n",
      "4\n",
      "2\n",
      "1\n"
     ]
    }
   ],
   "source": [
    "def collatz(n):\n",
    "    if n % 2 == 0:      #compute if statement, if n is even\n",
    "        print(n//2)\n",
    "        return(n//2)\n",
    "    else:              #compute else statement, if n is odd\n",
    "        odd = 3 * n + 1\n",
    "        print(odd)\n",
    "        return odd\n",
    "n = input(\"enter the value of n:\") #User input positive number\n",
    "n=int(n)\n",
    "while n!=1:\n",
    "    n=collatz(n)  "
   ]
  },
  {
   "cell_type": "markdown",
   "metadata": {},
   "source": [
    "### Question 6:"
   ]
  },
  {
   "cell_type": "markdown",
   "metadata": {},
   "source": [
    "### Write a recursive method binary() that takes a non-negative integer n and prints the binary representation of integer n."
   ]
  },
  {
   "cell_type": "code",
   "execution_count": 38,
   "metadata": {},
   "outputs": [],
   "source": [
    "#Recursive binary() function print binary representation of any number\n",
    "def binary(number): \n",
    "    if number > 1: \n",
    "        binary(number // 2)\n",
    "        \n",
    "    print(number % 2,end=\"\")"
   ]
  },
  {
   "cell_type": "code",
   "execution_count": 39,
   "metadata": {},
   "outputs": [
    {
     "name": "stdout",
     "output_type": "stream",
     "text": [
      "1010"
     ]
    }
   ],
   "source": [
    "binary(10)"
   ]
  },
  {
   "cell_type": "code",
   "execution_count": 40,
   "metadata": {},
   "outputs": [
    {
     "name": "stdout",
     "output_type": "stream",
     "text": [
      "100010"
     ]
    }
   ],
   "source": [
    "binary(34)"
   ]
  },
  {
   "cell_type": "markdown",
   "metadata": {},
   "source": [
    "### Question 7:"
   ]
  },
  {
   "cell_type": "markdown",
   "metadata": {},
   "source": [
    "### Working with HTMLParser"
   ]
  },
  {
   "cell_type": "code",
   "execution_count": 2,
   "metadata": {},
   "outputs": [],
   "source": [
    "from html.parser import HTMLParser\n",
    "class HeadingParser (HTMLParser): \n",
    "    \n",
    "    Tag_available = False\n",
    "    indent=0\n",
    "    \n",
    "    def handle_starttag(self, tag,attrs):\n",
    "        'Search for the heading tag'\n",
    "        if tag in [\"h1\",\"h2\",\"h3\",\"h4\",\"h5\",\"h6\"]:\n",
    "            self.Tag_available=True\n",
    "            if tag == \"h1\":\n",
    "                self.indent=0;\n",
    "            if tag == \"h2\":\n",
    "                self.indent=1;\n",
    "            if tag == \"h3\":\n",
    "                self.indent=2;\n",
    "            if tag == \"h4\":\n",
    "                self.indent=3;\n",
    "            if tag == \"h5\":\n",
    "                self.indent=4;\n",
    "            if tag == \"h6\":\n",
    "                self.indent=5;\n",
    "                               \n",
    "                       \n",
    "    def handle_endtag(self, tag):\n",
    "        'Search for the end tag'\n",
    "        if tag in [\"h1\",\"h2\",\"h3\",\"h4\",\"h5\",\"h6\"]:\n",
    "            self.Tag_available=False\n",
    "            \n",
    "    def handle_data(self,data):\n",
    "        if self.Tag_available:\n",
    "            #print (data)\n",
    "            self.indent\n",
    "            'print data of heading tag with specified indentation'\n",
    "            print('{}{}'.format(self.indent*' ', data))"
   ]
  },
  {
   "cell_type": "code",
   "execution_count": 3,
   "metadata": {},
   "outputs": [],
   "source": [
    "infile = open('set_2_files/W3C.html') \n",
    "content = infile.read() \n",
    "infile.close() "
   ]
  },
  {
   "cell_type": "code",
   "execution_count": 4,
   "metadata": {},
   "outputs": [
    {
     "name": "stdout",
     "output_type": "stream",
     "text": [
      "W3C Mission\n",
      " Principles\n"
     ]
    }
   ],
   "source": [
    "hp = HeadingParser()\n",
    "hp.feed(content) "
   ]
  },
  {
   "cell_type": "code",
   "execution_count": null,
   "metadata": {},
   "outputs": [],
   "source": []
  },
  {
   "cell_type": "markdown",
   "metadata": {},
   "source": [
    "### Question 8:"
   ]
  },
  {
   "cell_type": "markdown",
   "metadata": {},
   "source": [
    "### Working with LinkParser"
   ]
  },
  {
   "cell_type": "code",
   "execution_count": 46,
   "metadata": {},
   "outputs": [],
   "source": [
    "from urllib.request import urlopen\n",
    "from html.parser import HTMLParser\n",
    "class LinkParser(HTMLParser):\n",
    "\n",
    "    def handle_starttag(self, tag, attrs):\n",
    "        'print value of href attribute if any'\n",
    "        if tag == 'a':\n",
    "            # search for href attribute and print its value\n",
    "            for attr in attrs:\n",
    "                if attr[0] == 'href':\n",
    "                    print(attr[1])\n",
    "   "
   ]
  },
  {
   "cell_type": "code",
   "execution_count": 47,
   "metadata": {},
   "outputs": [
    {
     "name": "stdout",
     "output_type": "stream",
     "text": [
      "/\n",
      "/standards/\n",
      "/participate/\n",
      "/Consortium/membership\n",
      "/Consortium/\n",
      "/Consortium/\n",
      "/Consortium/facts.html\n",
      "/Consortium/presskit.html\n",
      "/Consortium/sponsor/\n",
      "/Consortium/Recruitment/\n",
      "/Consortium/contact.html\n",
      "/Help/\n",
      "#w3c_content_body\n",
      "/\n",
      "/Consortium/\n",
      "#openstand\n",
      "#principles\n",
      "#vision\n",
      "http://open-stand.org/principles/\n",
      "http://open-stand.org/\n",
      "/WAI/\n",
      "/International/\n",
      "/standards/webofdevices/\n",
      "/Mobile/\n",
      "/standards/agents/Overview.html\n",
      "/standards/webdesign/\n",
      "/standards/webarch/\n",
      "/standards/xml/\n",
      "/standards/semanticweb/\n",
      "/standards/webofservices/\n",
      "/standards/semanticweb/\n",
      "/standards/xml/security\n",
      "/standards/webofservices/security\n",
      "/standards/webdesign/privacy\n",
      "/\n",
      "/standards/\n",
      "/participate/\n",
      "/Consortium/membership\n",
      "/Consortium/\n",
      "/Consortium/contact\n",
      "/Help/\n",
      "/Consortium/sup\n",
      "/Consortium/siteindex\n",
      "http://lists.w3.org/Archives/Public/site-comments/\n",
      "http://twitter.com/W3C\n",
      "http://www.csail.mit.edu/\n",
      "http://www.ercim.org/\n",
      "http://www.keio.ac.jp/\n",
      "http://ev.buaa.edu.cn/\n",
      "/Consortium/Legal/ipr-notice\n"
     ]
    }
   ],
   "source": [
    "url = 'http://www.w3.org/Consortium/mission.html'\n",
    "resource = urlopen(url)\n",
    "content = resource.read().decode()\n",
    "linkparser = LinkParser()\n",
    "linkparser.feed(content)"
   ]
  },
  {
   "cell_type": "markdown",
   "metadata": {},
   "source": [
    "### Question 9:"
   ]
  },
  {
   "cell_type": "markdown",
   "metadata": {},
   "source": [
    "### Write SQL Query for the given database."
   ]
  },
  {
   "cell_type": "code",
   "execution_count": 66,
   "metadata": {},
   "outputs": [],
   "source": [
    "#import sqlite3 library\n",
    "import sqlite3\n",
    "\n",
    "#Connect with database\n",
    "con = sqlite3.connect('weather.db')\n",
    "cur = con.cursor()"
   ]
  },
  {
   "cell_type": "code",
   "execution_count": 50,
   "metadata": {},
   "outputs": [
    {
     "data": {
      "text/plain": [
       "<sqlite3.Cursor at 0x1b9da930c70>"
      ]
     },
     "execution_count": 50,
     "metadata": {},
     "output_type": "execute_result"
    }
   ],
   "source": [
    "#Create table season in weather database\n",
    "cur.execute(\"CREATE TABLE weather_data (City text, Country text, Season text, temperature float, rainfall float)\")"
   ]
  },
  {
   "cell_type": "code",
   "execution_count": 51,
   "metadata": {},
   "outputs": [
    {
     "data": {
      "text/plain": [
       "<sqlite3.Cursor at 0x1b9da930c70>"
      ]
     },
     "execution_count": 51,
     "metadata": {},
     "output_type": "execute_result"
    }
   ],
   "source": [
    "#insert records in season table\n",
    "cur.execute(\"Insert into weather_data values('Mumbai','India','Winter',24.8,5.9)\")\n",
    "cur.execute(\"Insert into weather_data values('Mumbai','India','Fall', 27.6, 346.0 )\")\n",
    "cur.execute(\"Insert into weather_data values('Mumbai','India','Spring',28.4 ,16.2 )\")\n",
    "cur.execute(\"Insert into weather_data values('Mumbai','India','Summer', 27.9 ,1549.4)\")\n",
    "cur.execute(\"Insert into weather_data values('London', 'United Kingdom', 'Winter', 4.2, 207.7 )\")\n",
    "cur.execute(\"Insert into weather_data values('London', 'United Kingdom','Spring', 8.3, 169.6)\")\n",
    "cur.execute(\"Insert into weather_data values('London', 'United Kingdom', 'Summer', 15.7, 157.0  )\")\n",
    "cur.execute(\"Insert into weather_data values('London', 'United Kingdom', 'Fall', 10.4, 218.5  )\")\n",
    "cur.execute(\"Insert into weather_data values('Cairo','Egypt', 'Winter', 13.6, 16.5 )\")\n",
    "cur.execute(\"Insert into weather_data values('Cairo','Egypt', 'Spring', 20.7, 6.5  )\")\n",
    "cur.execute(\"Insert into weather_data values('Cairo','Egypt', 'Summer', 27.7, 0.1  )\")\n",
    "cur.execute(\"Insert into weather_data values('Cairo','Egypt', 'Fall', 22.2, 4.5  )\")\n"
   ]
  },
  {
   "cell_type": "code",
   "execution_count": 52,
   "metadata": {},
   "outputs": [
    {
     "data": {
      "text/plain": [
       "[('Mumbai', 'India', 'Winter', 24.8, 5.9),\n",
       " ('Mumbai', 'India', 'Fall', 27.6, 346.0),\n",
       " ('Mumbai', 'India', 'Spring', 28.4, 16.2),\n",
       " ('Mumbai', 'India', 'Summer', 27.9, 1549.4),\n",
       " ('London', 'United Kingdom', 'Winter', 4.2, 207.7),\n",
       " ('London', 'United Kingdom', 'Spring', 8.3, 169.6),\n",
       " ('London', 'United Kingdom', 'Summer', 15.7, 157.0),\n",
       " ('London', 'United Kingdom', 'Fall', 10.4, 218.5),\n",
       " ('Cairo', 'Egypt', 'Winter', 13.6, 16.5),\n",
       " ('Cairo', 'Egypt', 'Spring', 20.7, 6.5),\n",
       " ('Cairo', 'Egypt', 'Summer', 27.7, 0.1),\n",
       " ('Cairo', 'Egypt', 'Fall', 22.2, 4.5)]"
      ]
     },
     "execution_count": 52,
     "metadata": {},
     "output_type": "execute_result"
    }
   ],
   "source": [
    "#display records\n",
    "cur.execute(\"select * from weather_data\")\n",
    "cur.fetchall()"
   ]
  },
  {
   "cell_type": "code",
   "execution_count": 53,
   "metadata": {},
   "outputs": [
    {
     "data": {
      "text/plain": [
       "[(24.8,),\n",
       " (27.6,),\n",
       " (28.4,),\n",
       " (27.9,),\n",
       " (4.2,),\n",
       " (8.3,),\n",
       " (15.7,),\n",
       " (10.4,),\n",
       " (13.6,),\n",
       " (20.7,),\n",
       " (27.7,),\n",
       " (22.2,)]"
      ]
     },
     "execution_count": 53,
     "metadata": {},
     "output_type": "execute_result"
    }
   ],
   "source": [
    "#a) All the temperature data.\n",
    "cur.execute(\"Select temperature from weather_data\")\n",
    "cur.fetchall()"
   ]
  },
  {
   "cell_type": "code",
   "execution_count": 54,
   "metadata": {},
   "outputs": [
    {
     "data": {
      "text/plain": [
       "[('Mumbai',), ('London',), ('Cairo',)]"
      ]
     },
     "execution_count": 54,
     "metadata": {},
     "output_type": "execute_result"
    }
   ],
   "source": [
    "#b) All the cities, but without repetition.\n",
    "cur.execute(\"Select distinct city from weather_data\")\n",
    "cur.fetchall()"
   ]
  },
  {
   "cell_type": "code",
   "execution_count": 55,
   "metadata": {},
   "outputs": [
    {
     "data": {
      "text/plain": [
       "[('Mumbai', 'India', 'Winter', 24.8, 5.9),\n",
       " ('Mumbai', 'India', 'Fall', 27.6, 346.0),\n",
       " ('Mumbai', 'India', 'Spring', 28.4, 16.2),\n",
       " ('Mumbai', 'India', 'Summer', 27.9, 1549.4)]"
      ]
     },
     "execution_count": 55,
     "metadata": {},
     "output_type": "execute_result"
    }
   ],
   "source": [
    "#c) All the records for India.\n",
    "cur.execute(\"Select * from weather_data where Country = 'India'\")\n",
    "cur.fetchall()"
   ]
  },
  {
   "cell_type": "code",
   "execution_count": 56,
   "metadata": {},
   "outputs": [
    {
     "data": {
      "text/plain": [
       "[('Mumbai', 'India', 'Fall', 27.6, 346.0),\n",
       " ('London', 'United Kingdom', 'Fall', 10.4, 218.5),\n",
       " ('Cairo', 'Egypt', 'Fall', 22.2, 4.5)]"
      ]
     },
     "execution_count": 56,
     "metadata": {},
     "output_type": "execute_result"
    }
   ],
   "source": [
    "#d)All the Fall records.\n",
    "cur.execute(\"Select * from weather_data where Season = 'Fall'\")\n",
    "cur.fetchall()"
   ]
  },
  {
   "cell_type": "code",
   "execution_count": 67,
   "metadata": {},
   "outputs": [
    {
     "data": {
      "text/plain": [
       "[('Mumbai', 'India', 'Fall'),\n",
       " ('London', 'United Kingdom', 'Winter'),\n",
       " ('London', 'United Kingdom', 'Fall')]"
      ]
     },
     "execution_count": 67,
     "metadata": {},
     "output_type": "execute_result"
    }
   ],
   "source": [
    "#e) The city, country, and season for which the average rainfall is between 200 and 400 millimeters.\n",
    "cur.execute(\"Select City, Country,Season from weather_data where rainfall between 200 and 400\")\n",
    "cur.fetchall() "
   ]
  },
  {
   "cell_type": "code",
   "execution_count": 68,
   "metadata": {},
   "outputs": [
    {
     "data": {
      "text/plain": [
       "[('Cairo', 'Egypt', 22.2), ('Mumbai', 'India', 27.6)]"
      ]
     },
     "execution_count": 68,
     "metadata": {},
     "output_type": "execute_result"
    }
   ],
   "source": [
    "#f) The city and country for which the average Fall temperature is above 20 degrees, in increasing temperature order.\n",
    "cur.execute(\"Select City, Country,Temperature from weather_data where Season = 'Fall' and Temperature > 20 Order by Temperature ASC\")\n",
    "cur.fetchall() "
   ]
  },
  {
   "cell_type": "code",
   "execution_count": 60,
   "metadata": {},
   "outputs": [
    {
     "data": {
      "text/plain": [
       "[(27.6,)]"
      ]
     },
     "execution_count": 60,
     "metadata": {},
     "output_type": "execute_result"
    }
   ],
   "source": [
    "#g)The total annual rainfall for Cairo.\n",
    "cur.execute(\"Select sum(rainfall) from weather_data where city='Cairo'\")\n",
    "cur.fetchall() "
   ]
  },
  {
   "cell_type": "code",
   "execution_count": 61,
   "metadata": {},
   "outputs": [
    {
     "data": {
      "text/plain": [
       "[('Fall', 569.0),\n",
       " ('Spring', 192.29999999999998),\n",
       " ('Summer', 1706.5),\n",
       " ('Winter', 230.1)]"
      ]
     },
     "execution_count": 61,
     "metadata": {},
     "output_type": "execute_result"
    }
   ],
   "source": [
    "#h)The total rainfall for each season.\n",
    "cur.execute(\"Select Season, sum(rainfall) from weather_data group by Season\")\n",
    "cur.fetchall() "
   ]
  },
  {
   "cell_type": "code",
   "execution_count": 62,
   "metadata": {},
   "outputs": [],
   "source": [
    "#Commit connection\n",
    "con.commit()"
   ]
  },
  {
   "cell_type": "code",
   "execution_count": 69,
   "metadata": {},
   "outputs": [],
   "source": [
    "#Close Connection\n",
    "con.close()"
   ]
  },
  {
   "cell_type": "markdown",
   "metadata": {},
   "source": [
    "### Question 10:"
   ]
  },
  {
   "cell_type": "markdown",
   "metadata": {},
   "source": [
    "### Write list comprehension expressions that use list words and generate the list."
   ]
  },
  {
   "cell_type": "code",
   "execution_count": 64,
   "metadata": {},
   "outputs": [
    {
     "name": "stdout",
     "output_type": "stream",
     "text": [
      "['THE', 'QUICK', 'BROWN', 'FOX', 'JUMPS', 'OVER', 'THE', 'LAZY', 'DOG']\n",
      "['the', 'quick', 'brown', 'fox', 'jumps', 'over', 'the', 'lazy', 'dog']\n",
      "[3, 5, 5, 3, 5, 4, 3, 4, 3]\n",
      "[['THE', 'the', 3], ['QUICK', 'quick', 5], ['BROWN', 'brown', 5], ['FOX', 'fox', 3], ['JUMPS', 'jumps', 5], ['OVER', 'over', 4], ['THE', 'the', 3], ['LAZY', 'lazy', 4], ['DOG', 'dog', 3]]\n",
      "['quick', 'brown', 'jumps', 'over', 'lazy']\n"
     ]
    }
   ],
   "source": [
    "#List Comprehension\n",
    "words = ['The', 'quick', 'brown', 'fox', 'jumps', 'over',\n",
    "'the', 'lazy', 'dog']\n",
    "\n",
    "words_a = [word.upper() for word in words] #List Comprehension with upper() function\n",
    "print(words_a)\n",
    "\n",
    "words_b = [word.lower() for word in words] #List Comprehension with lower() function\n",
    "print(words_b)\n",
    "\n",
    "words_c = [len(word) for word in words] #List Comprehension with len() function\n",
    "print(words_c)\n",
    "\n",
    "word_d = []\n",
    "word_d = [[word.upper(),word.lower(),len(word)] for word in words] \n",
    "print(word_d)\n",
    "          \n",
    "word_c = [word for word in words if len(word)>=4] #word with length greater than 4.\n",
    "print(word_c)"
   ]
  },
  {
   "cell_type": "code",
   "execution_count": null,
   "metadata": {},
   "outputs": [],
   "source": []
  }
 ],
 "metadata": {
  "kernelspec": {
   "display_name": "Python 3",
   "language": "python",
   "name": "python3"
  },
  "language_info": {
   "codemirror_mode": {
    "name": "ipython",
    "version": 3
   },
   "file_extension": ".py",
   "mimetype": "text/x-python",
   "name": "python",
   "nbconvert_exporter": "python",
   "pygments_lexer": "ipython3",
   "version": "3.8.5"
  }
 },
 "nbformat": 4,
 "nbformat_minor": 4
}
